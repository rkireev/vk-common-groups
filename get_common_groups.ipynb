{
 "cells": [
  {
   "cell_type": "code",
   "execution_count": null,
   "metadata": {
    "collapsed": false
   },
   "outputs": [],
   "source": [
    "import json\n",
    "import urllib2\n",
    "import time\n",
    "\n",
    "#https://oauth.vk.com/authorize?client_id=5336634&redirect_uri=vk.com&response_type=token \n",
    "\n",
    "def get_common_groups(target_group_id, n, token):\n",
    "    members_number = 0\n",
    "    offset = 0\n",
    "    common_groups = {}\n",
    "    buf = 0\n",
    "    failed = []\n",
    "    while offset <= members_number:\n",
    "        members_request = 'https://api.vk.com/method/groups.getMembers?group_id='+target_group_id+'&sort=id_asc&offset='+str(offset)\n",
    "        data_group = json.load(urllib2.urlopen(members_request))\n",
    "        members_number = data_group['response']['count']\n",
    "        for user_id in data_group['response']['users']:\n",
    "            groups_request = 'https://api.vk.com/method/groups.get?user_id='+str(user_id)+'&access_token='+token\n",
    "            data_user = json.load(urllib2.urlopen(groups_request))\n",
    "            buf+=1\n",
    "            #if buf%100==0:\n",
    "            #    print buf\n",
    "            if data_user.get('response'):\n",
    "                for group_id in data_user['response']:\n",
    "                    if common_groups.get(group_id):\n",
    "                        common_groups[group_id] = 1 + common_groups.get(group_id)\n",
    "                    else:\n",
    "                        common_groups[group_id] = 1\n",
    "                time.sleep(0.32)\n",
    "            else:\n",
    "                time.sleep(1)\n",
    "                failed.append(user_id)\n",
    "        offset += 1000\n",
    "    with open('data.txt', 'w') as outfile:\n",
    "        json.dump(common_groups, outfile)\n",
    "        \n",
    "    common_groups_sorted = sorted(common_groups.items(), key=lambda (k,v): v, reverse=True)\n",
    "    group_id_list = ''\n",
    "    freqs = []\n",
    "    for i in range(n):\n",
    "        freqs.append(common_groups_sorted[i][1])\n",
    "        group_id_list += str(common_groups_sorted[i][0])+','\n",
    "    groups_desc_request = 'https://api.vk.com/method/groups.getById?group_ids='+group_id_list#+'&access_token='+token\n",
    "    groups_desc = json.load(urllib2.urlopen(groups_desc_request))['response']\n",
    "    groups_names = []\n",
    "    for desc in groups_desc:\n",
    "        groups_names.append(desc['name'])\n",
    "    return groups_names, freqs"
   ]
  },
  {
   "cell_type": "code",
   "execution_count": null,
   "metadata": {
    "collapsed": false,
    "scrolled": true
   },
   "outputs": [],
   "source": [
    "a,b = get_common_groups('',100,'')"
   ]
  },
  {
   "cell_type": "code",
   "execution_count": null,
   "metadata": {
    "collapsed": false,
    "scrolled": true
   },
   "outputs": [],
   "source": [
    "#with open('data.txt') as data_file:    \n",
    "#    common_groups = json.load(data_file)\n",
    "for x in a:\n",
    "    print x\n",
    "for x in b:\n",
    "    print x"
   ]
  },
  {
   "cell_type": "code",
   "execution_count": null,
   "metadata": {
    "collapsed": false
   },
   "outputs": [],
   "source": [
    "import matplotlib.pyplot as plt\n",
    "plt.bar(range(len(a)), b, align='center')\n",
    "plt.xticks(range(len(a)), a, size='small', rotation=70 )\n",
    "plt.show()"
   ]
  },
  {
   "cell_type": "code",
   "execution_count": null,
   "metadata": {
    "collapsed": true
   },
   "outputs": [],
   "source": []
  }
 ],
 "metadata": {
  "kernelspec": {
   "display_name": "Python 2",
   "language": "python",
   "name": "python2"
  },
  "language_info": {
   "codemirror_mode": {
    "name": "ipython",
    "version": 2
   },
   "file_extension": ".py",
   "mimetype": "text/x-python",
   "name": "python",
   "nbconvert_exporter": "python",
   "pygments_lexer": "ipython2",
   "version": "2.7.11"
  }
 },
 "nbformat": 4,
 "nbformat_minor": 0
}
